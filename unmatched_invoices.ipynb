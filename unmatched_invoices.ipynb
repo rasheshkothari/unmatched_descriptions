{
 "cells": [
  {
   "cell_type": "code",
   "execution_count": 1,
   "id": "further-footwear",
   "metadata": {},
   "outputs": [],
   "source": [
    "import warnings\n",
    "warnings.filterwarnings('ignore')\n",
    "\n",
    "import pandas as pd\n",
    "import numpy as np\n",
    "import matplotlib.pyplot as plt\n",
    "import seaborn as sb\n",
    "from pylab import rcParams\n",
    "import os\n",
    "import re\n",
    "%matplotlib inline\n",
    "\n",
    "from fuzzywuzzy import fuzz\n",
    "from fuzzywuzzy import process\n",
    "\n",
    "import jellyfish\n",
    "\n",
    "# import torch\n",
    "# from sentence_transformers import SentenceTransformer, util\n",
    "# model = SentenceTransformer('stsb-roberta-large')\n",
    "\n",
    "# Imported the inaugural corpus from nltk.corpus\n",
    "import nltk\n",
    "from nltk.corpus import inaugural\n",
    "from nltk.tokenize import regexp_tokenize\n",
    "from nltk.stem import WordNetLemmatizer\n",
    "from nltk.corpus import stopwords\n",
    "\n",
    "from sklearn.model_selection import train_test_split\n",
    "from sklearn.feature_extraction.text import TfidfVectorizer\n",
    "from sklearn.preprocessing import LabelEncoder\n",
    "\n",
    "import gensim\n",
    "from gensim.utils import simple_preprocess\n",
    "from gensim.utils import simple_preprocess\n",
    "from gensim.models import Word2Vec\n",
    "from gensim.models import TfidfModel\n",
    "from gensim.corpora import Dictionary\n",
    "import num2words\n",
    "from num2words import num2words\n",
    "import time\n",
    "# from time import time\n",
    "\n",
    "pd.options.display.max_colwidth = 10000"
   ]
  },
  {
   "cell_type": "code",
   "execution_count": 2,
   "id": "oriented-personal",
   "metadata": {},
   "outputs": [],
   "source": [
    "masterkey_pdtdesc = pd.read_csv('~/Downloads/mapped_unique_masterkey_product_desc.csv', engine='python')"
   ]
  },
  {
   "cell_type": "code",
   "execution_count": 3,
   "id": "realistic-clone",
   "metadata": {},
   "outputs": [],
   "source": [
    "masterkey_pdtdesc.sort_values(by = 'PRODUCT_DESCRIPTION', inplace = True)"
   ]
  },
  {
   "cell_type": "code",
   "execution_count": 4,
   "id": "prospective-sympathy",
   "metadata": {},
   "outputs": [],
   "source": [
    "invoice_lessthan10_UPC_desc = pd.read_csv('~/Downloads/lessthan10_UPC_desc.csv', engine='python')"
   ]
  },
  {
   "cell_type": "code",
   "execution_count": 5,
   "id": "spare-prayer",
   "metadata": {},
   "outputs": [],
   "source": [
    "invoice_lessthan10_UPC_desc.sort_values(by = 'INVOICE_PACKAGE_DESCRIPTION', inplace = True)"
   ]
  },
  {
   "cell_type": "code",
   "execution_count": 6,
   "id": "irish-blond",
   "metadata": {},
   "outputs": [],
   "source": [
    "subset_invoice = invoice_lessthan10_UPC_desc[:100000]"
   ]
  },
  {
   "cell_type": "code",
   "execution_count": 7,
   "id": "approximate-gallery",
   "metadata": {},
   "outputs": [],
   "source": [
    "subset_master = masterkey_pdtdesc"
   ]
  },
  {
   "cell_type": "code",
   "execution_count": 8,
   "id": "olive-isaac",
   "metadata": {},
   "outputs": [],
   "source": [
    "subset_master[\"joined\"] = subset_master['PRODUCT_MASTER_CATALOG_KEY'].map(str) + \" |\" + subset_master['PRODUCT_DESCRIPTION'] "
   ]
  },
  {
   "cell_type": "code",
   "execution_count": 9,
   "id": "generous-blocking",
   "metadata": {},
   "outputs": [],
   "source": [
    "# def partial_ratio(tup):\n",
    "#     return pd.Series([fuzz.partial_ratio(*tup)] ,['partial'])\n",
    "\n",
    "# def token_set_ratio(tup):\n",
    "#     return pd.Series([fuzz.token_set_ratio(*tup)],['set_ratio'])"
   ]
  },
  {
   "cell_type": "code",
   "execution_count": 10,
   "id": "ecological-shield",
   "metadata": {},
   "outputs": [],
   "source": [
    "start = time.time()"
   ]
  },
  {
   "cell_type": "code",
   "execution_count": 11,
   "id": "overhead-ribbon",
   "metadata": {},
   "outputs": [],
   "source": [
    "# def logic(invoice_desc,ct,n):\n",
    "    \n",
    "    \n",
    "\n",
    "#     l =[]\n",
    "#     l.append(invoice_desc)\n",
    "\n",
    "# #Multiindex and reindexing\n",
    "#     compare = pd.MultiIndex.from_product([l, subset_master['PRODUCT_DESCRIPTION']]).to_series()\n",
    "#     df_compare = compare.reset_index()    \n",
    "# #Renaming the columns \n",
    "   \n",
    "#     df_compare.rename(columns={ df_compare.columns[0]: \"INVOICE_PACKAGE_DESCRIPTION\" }, inplace = True)\n",
    "#     df_compare.rename(columns={ df_compare.columns[2]: \"concat\" }, inplace = True)\n",
    "#     df_compare.dropna(axis='rows',inplace = True)\n",
    "# #Call the function for calculating ratios\n",
    "\n",
    "#     df_compare[\"partial\"] = df_compare[\"concat\"].apply(partial_ratio)\n",
    "#     df_compare[\"token_set_ratio\"] = df_compare[\"concat\"].apply(token_set_ratio)\n",
    "    \n",
    "#     return df_compare.sort_values(by =['partial','token_set_ratio'],ascending=False).head(10)\n",
    "    \n",
    "\n",
    "    \n",
    "    \n",
    "    \n",
    "    "
   ]
  },
  {
   "cell_type": "code",
   "execution_count": 12,
   "id": "specific-ecuador",
   "metadata": {},
   "outputs": [],
   "source": [
    "def partial_ratio2(tup):\n",
    "    l=[]\n",
    "    l.append(tup)\n",
    "  \n",
    "    sep = ''\n",
    "    out = sep.join(tup[1])\n",
    "    n = out.split('|')\n",
    "    \n",
    "    return pd.Series([fuzz.partial_ratio(tup[0],n[1].strip())] ,['partial'])\n",
    "\n",
    "def token_set_ratio2(tup):\n",
    "    l=[]\n",
    "    l.append(tup)\n",
    "    sep = ''\n",
    "    out = sep.join(tup[1])\n",
    "    n = out.split('|')\n",
    "  \n",
    "    return pd.Series([fuzz.token_set_ratio(tup[0],n[1].strip())],['set_ratio'])"
   ]
  },
  {
   "cell_type": "code",
   "execution_count": 13,
   "id": "functioning-spanish",
   "metadata": {},
   "outputs": [],
   "source": [
    "def logic2(invoice_desc,ct,n):\n",
    "    \n",
    "    \n",
    "\n",
    "    l =[]\n",
    "    l.append(invoice_desc)\n",
    "\n",
    "#Multiindex and reindexing\n",
    "    compare = pd.MultiIndex.from_product([l, subset_master['joined']]).to_series()\n",
    "    df_compare = compare.reset_index()    \n",
    "#Renaming the columns \n",
    "   \n",
    "    df_compare.rename(columns={ df_compare.columns[0]: \"INVOICE_PACKAGE_DESCRIPTION\" }, inplace = True)\n",
    "    df_compare.rename(columns={ df_compare.columns[2]: \"concat\" }, inplace = True)\n",
    "    df_compare.dropna(axis='rows',inplace = True)\n",
    "#Call the function for calculating ratios\n",
    "\n",
    "    df_compare[\"partial\"] = df_compare[\"concat\"].apply(partial_ratio2)\n",
    "    df_compare[\"token_set_ratio\"] = df_compare[\"concat\"].apply(token_set_ratio2)\n",
    "    \n",
    "    return df_compare.sort_values(by =['partial','token_set_ratio'],ascending=False).head(10)\n",
    "    \n",
    "\n",
    "    \n",
    "    \n",
    "    \n",
    "    "
   ]
  },
  {
   "cell_type": "code",
   "execution_count": null,
   "id": "valid-kenya",
   "metadata": {},
   "outputs": [
    {
     "name": "stdout",
     "output_type": "stream",
     "text": [
      "200\n"
     ]
    }
   ],
   "source": [
    "\n",
    "n = 0\n",
    "ct =0\n",
    "for i in subset_invoice.index:\n",
    "    ct += 1\n",
    "\n",
    "    x = subset_invoice.loc[i, \"INVOICE_PACKAGE_DESCRIPTION\"]\n",
    "    \n",
    "    res = logic2(x,ct,n)\n",
    "\n",
    "    export_file = res[['INVOICE_PACKAGE_DESCRIPTION','joined','partial','token_set_ratio']]\n",
    "    file1 = open(\"unmatched_fuzzymatch_top10_ratios{}.csv\".format(n), \"a\") \n",
    "    export_file.to_csv(file1, header=False)\n",
    "    file1.close()\n",
    "    if ct == 200:\n",
    "        print(ct)\n",
    "    if ct == 10000:\n",
    "        print(\"--->\",n)\n",
    "        n += 1\n",
    "        del res\n",
    "        ct = 0"
   ]
  },
  {
   "cell_type": "code",
   "execution_count": null,
   "id": "touched-argument",
   "metadata": {},
   "outputs": [],
   "source": [
    "end = time.time()\n",
    "print(\"time taken: \" ,(end-start))"
   ]
  },
  {
   "cell_type": "code",
   "execution_count": null,
   "id": "enhanced-rebel",
   "metadata": {},
   "outputs": [],
   "source": [
    "ss1hj"
   ]
  },
  {
   "cell_type": "code",
   "execution_count": null,
   "id": "animated-filing",
   "metadata": {},
   "outputs": [],
   "source": [
    "# df_compare.rename(columns={ df_compare.columns[2]: \"concat\" }, inplace = True)\n",
    "#     df_compare.dropna(axis='rows',inplace = True)\n",
    "# #calling partial model for score     \n",
    "#     df_compare['partial'], df_compare['set_ratio'] = df_compare['concat'].apply(partial)\n",
    "#     df_compare.rename(columns={ df_compare.columns[0]: \"INVOICE_PACKAGE_DESCRIPTION\" }, inplace = True)\n",
    "#     res = df_compare.sort_values('partial',ascending=False).head(10)\n",
    "    \n",
    "#     if ct == 2:\n",
    "#         print(\"--->\",n)\n",
    "#         n += 1\n",
    "#         export_file = res[['INVOICE_PACKAGE_DESCRIPTION','PRODUCT_DESCRIPTION','partial','set_ratio']]\n",
    "#         file1 = open(\"N_unmatched_fuzzymatch_top10_ratios{}.csv\".format(n), \"a\") \n",
    "#         export_file.to_csv(file1, header=False)\n",
    "#         file1.close()\n",
    "#         del df_compare\n",
    "#         del res\n",
    "#         ct = 0"
   ]
  },
  {
   "cell_type": "code",
   "execution_count": null,
   "id": "dominican-weather",
   "metadata": {},
   "outputs": [],
   "source": []
  },
  {
   "cell_type": "code",
   "execution_count": null,
   "id": "cheap-cycle",
   "metadata": {},
   "outputs": [],
   "source": []
  },
  {
   "cell_type": "code",
   "execution_count": null,
   "id": "prescription-importance",
   "metadata": {},
   "outputs": [],
   "source": []
  },
  {
   "cell_type": "code",
   "execution_count": null,
   "id": "sound-cheat",
   "metadata": {},
   "outputs": [],
   "source": []
  },
  {
   "cell_type": "code",
   "execution_count": null,
   "id": "raised-yugoslavia",
   "metadata": {},
   "outputs": [],
   "source": []
  },
  {
   "cell_type": "code",
   "execution_count": null,
   "id": "armed-accreditation",
   "metadata": {},
   "outputs": [],
   "source": []
  },
  {
   "cell_type": "code",
   "execution_count": null,
   "id": "twelve-combination",
   "metadata": {},
   "outputs": [],
   "source": []
  },
  {
   "cell_type": "code",
   "execution_count": null,
   "id": "optimum-contest",
   "metadata": {},
   "outputs": [],
   "source": []
  }
 ],
 "metadata": {
  "kernelspec": {
   "display_name": "Python 3",
   "language": "python",
   "name": "python3"
  },
  "language_info": {
   "codemirror_mode": {
    "name": "ipython",
    "version": 3
   },
   "file_extension": ".py",
   "mimetype": "text/x-python",
   "name": "python",
   "nbconvert_exporter": "python",
   "pygments_lexer": "ipython3",
   "version": "3.7.3"
  }
 },
 "nbformat": 4,
 "nbformat_minor": 5
}
